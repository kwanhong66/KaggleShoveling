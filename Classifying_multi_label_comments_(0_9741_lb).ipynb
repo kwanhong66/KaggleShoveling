{
  "nbformat": 4,
  "nbformat_minor": 0,
  "metadata": {
    "colab": {
      "name": "Classifying multi-label comments (0.9741 lb).ipynb",
      "provenance": [],
      "collapsed_sections": [],
      "authorship_tag": "ABX9TyND30pqUOG53HpKkKojCR/b",
      "include_colab_link": true
    },
    "kernelspec": {
      "name": "python3",
      "display_name": "Python 3"
    }
  },
  "cells": [
    {
      "cell_type": "markdown",
      "metadata": {
        "id": "view-in-github",
        "colab_type": "text"
      },
      "source": [
        "<a href=\"https://colab.research.google.com/github/kwanhong66/KaggleShoveling/blob/master/Classifying_multi_label_comments_(0_9741_lb).ipynb\" target=\"_parent\"><img src=\"https://colab.research.google.com/assets/colab-badge.svg\" alt=\"Open In Colab\"/></a>"
      ]
    },
    {
      "cell_type": "markdown",
      "metadata": {
        "id": "oLC1Vxqmk8T9",
        "colab_type": "text"
      },
      "source": [
        "## Kaggle kernal transcription study #10-1\n",
        "### Toxic Comment Classification Challenge\n",
        "\n",
        "- Kernal 주소\n",
        "  * https://www.kaggle.com/rhodiumbeng/classifying-multi-label-comments-0-9741-lb\n",
        "- Dataset 주소\n",
        "  * https://www.kaggle.com/c/jigsaw-toxic-comment-classification-challenge"
      ]
    },
    {
      "cell_type": "markdown",
      "metadata": {
        "id": "cC5cd-gDlKx4",
        "colab_type": "text"
      },
      "source": [
        "## Dataset with Kaggle API"
      ]
    },
    {
      "cell_type": "code",
      "metadata": {
        "id": "OS9xcvDeksrO",
        "colab_type": "code",
        "colab": {}
      },
      "source": [
        "!pip3 install -q kaggle"
      ],
      "execution_count": 0,
      "outputs": []
    },
    {
      "cell_type": "code",
      "metadata": {
        "id": "iWacFJ-olSAr",
        "colab_type": "code",
        "outputId": "d9a41423-e13c-4ed3-b465-d70ce067dc66",
        "colab": {
          "base_uri": "https://localhost:8080/",
          "height": 215
        }
      },
      "source": [
        "!wget 'https://raw.githubusercontent.com/kwanhong66/KaggleShoveling/master/token/kaggle.json'"
      ],
      "execution_count": 2,
      "outputs": [
        {
          "output_type": "stream",
          "text": [
            "--2020-05-21 06:02:51--  https://raw.githubusercontent.com/kwanhong66/KaggleShoveling/master/token/kaggle.json\n",
            "Resolving raw.githubusercontent.com (raw.githubusercontent.com)... 151.101.0.133, 151.101.64.133, 151.101.128.133, ...\n",
            "Connecting to raw.githubusercontent.com (raw.githubusercontent.com)|151.101.0.133|:443... connected.\n",
            "HTTP request sent, awaiting response... 200 OK\n",
            "Length: 63 [text/plain]\n",
            "Saving to: ‘kaggle.json’\n",
            "\n",
            "\rkaggle.json           0%[                    ]       0  --.-KB/s               \rkaggle.json         100%[===================>]      63  --.-KB/s    in 0s      \n",
            "\n",
            "2020-05-21 06:02:52 (3.25 MB/s) - ‘kaggle.json’ saved [63/63]\n",
            "\n"
          ],
          "name": "stdout"
        }
      ]
    },
    {
      "cell_type": "code",
      "metadata": {
        "id": "YNcDY_UKlUvT",
        "colab_type": "code",
        "colab": {}
      },
      "source": [
        "!mkdir ~/.kaggle\n",
        "!cp kaggle.json ~/.kaggle"
      ],
      "execution_count": 0,
      "outputs": []
    },
    {
      "cell_type": "code",
      "metadata": {
        "id": "S2coK1OrlVG0",
        "colab_type": "code",
        "colab": {}
      },
      "source": [
        "!chmod 600 ~/.kaggle/kaggle.json"
      ],
      "execution_count": 0,
      "outputs": []
    },
    {
      "cell_type": "code",
      "metadata": {
        "id": "S09SDmxJlWxs",
        "colab_type": "code",
        "outputId": "82e6e29d-e4da-467f-feb4-9335faeb3fff",
        "colab": {
          "base_uri": "https://localhost:8080/",
          "height": 431
        }
      },
      "source": [
        "!kaggle competitions list"
      ],
      "execution_count": 5,
      "outputs": [
        {
          "output_type": "stream",
          "text": [
            "Warning: Looks like you're using an outdated API Version, please consider updating (server 1.5.6 / client 1.5.4)\n",
            "ref                                               deadline             category            reward  teamCount  userHasEntered  \n",
            "------------------------------------------------  -------------------  ---------------  ---------  ---------  --------------  \n",
            "digit-recognizer                                  2030-01-01 00:00:00  Getting Started  Knowledge       3019           False  \n",
            "titanic                                           2030-01-01 00:00:00  Getting Started  Knowledge      22288            True  \n",
            "house-prices-advanced-regression-techniques       2030-01-01 00:00:00  Getting Started  Knowledge       5161            True  \n",
            "connectx                                          2030-01-01 00:00:00  Getting Started  Knowledge        400           False  \n",
            "nlp-getting-started                               2030-01-01 00:00:00  Getting Started      Kudos       1933           False  \n",
            "competitive-data-science-predict-future-sales     2020-12-31 23:59:00  Playground           Kudos       6880           False  \n",
            "global-wheat-detection                            2020-08-04 23:59:00  Research           $15,000        412           False  \n",
            "open-images-object-detection-rvc-2020             2020-07-31 16:00:00  Playground       Knowledge          5           False  \n",
            "open-images-instance-segmentation-rvc-2020        2020-07-31 16:00:00  Playground       Knowledge          1           False  \n",
            "hashcode-photo-slideshow                          2020-07-27 23:59:00  Playground       Knowledge         25           False  \n",
            "prostate-cancer-grade-assessment                  2020-07-22 23:59:00  Featured           $25,000        408           False  \n",
            "alaska2-image-steganalysis                        2020-07-20 23:59:00  Research           $25,000        339           False  \n",
            "halite                                            2020-06-30 23:59:00  Featured             Kudos          0           False  \n",
            "m5-forecasting-accuracy                           2020-06-30 23:59:00  Featured           $50,000       4044           False  \n",
            "m5-forecasting-uncertainty                        2020-06-30 23:59:00  Featured           $50,000        447           False  \n",
            "trends-assessment-prediction                      2020-06-29 23:59:00  Research           $25,000        377           False  \n",
            "jigsaw-multilingual-toxic-comment-classification  2020-06-22 23:59:00  Featured           $50,000       1016           False  \n",
            "tweet-sentiment-extraction                        2020-06-16 23:59:00  Featured           $15,000       1307           False  \n",
            "imet-2020-fgvc7                                   2020-05-28 23:59:00  Research         Knowledge         83           False  \n",
            "abstraction-and-reasoning-challenge               2020-05-27 23:59:00  Research           $20,000        850           False  \n"
          ],
          "name": "stdout"
        }
      ]
    },
    {
      "cell_type": "code",
      "metadata": {
        "id": "AF000p4wlYZs",
        "colab_type": "code",
        "outputId": "6cadecef-bb49-4642-e8e4-2b3648bcd10b",
        "colab": {
          "base_uri": "https://localhost:8080/",
          "height": 251
        }
      },
      "source": [
        "!kaggle competitions download jigsaw-toxic-comment-classification-challenge"
      ],
      "execution_count": 6,
      "outputs": [
        {
          "output_type": "stream",
          "text": [
            "Warning: Looks like you're using an outdated API Version, please consider updating (server 1.5.6 / client 1.5.4)\n",
            "Downloading test_labels.csv.zip to /content\n",
            "  0% 0.00/1.46M [00:00<?, ?B/s]\n",
            "100% 1.46M/1.46M [00:00<00:00, 47.9MB/s]\n",
            "Downloading sample_submission.csv.zip to /content\n",
            "  0% 0.00/1.39M [00:00<?, ?B/s]\n",
            "100% 1.39M/1.39M [00:00<00:00, 95.6MB/s]\n",
            "Downloading train.csv.zip to /content\n",
            " 65% 17.0M/26.3M [00:00<00:00, 35.7MB/s]\n",
            "100% 26.3M/26.3M [00:00<00:00, 66.6MB/s]\n",
            "Downloading test.csv.zip to /content\n",
            " 43% 10.0M/23.4M [00:00<00:00, 27.0MB/s]\n",
            "100% 23.4M/23.4M [00:00<00:00, 59.3MB/s]\n"
          ],
          "name": "stdout"
        }
      ]
    },
    {
      "cell_type": "code",
      "metadata": {
        "id": "4NVwtsEGmN25",
        "colab_type": "code",
        "colab": {}
      },
      "source": [
        "!mkdir input"
      ],
      "execution_count": 0,
      "outputs": []
    },
    {
      "cell_type": "code",
      "metadata": {
        "id": "KUZOOMjImQa1",
        "colab_type": "code",
        "outputId": "8d8ba3f5-d2e6-45df-ef79-21da4165c773",
        "colab": {
          "base_uri": "https://localhost:8080/",
          "height": 251
        }
      },
      "source": [
        "!unzip '*.zip' -d ./input/"
      ],
      "execution_count": 8,
      "outputs": [
        {
          "output_type": "stream",
          "text": [
            "Archive:  sample_submission.csv.zip\n",
            "  inflating: ./input/sample_submission.csv  \n",
            "\n",
            "Archive:  train.csv.zip\n",
            "  inflating: ./input/train.csv       \n",
            "\n",
            "Archive:  test_labels.csv.zip\n",
            "  inflating: ./input/test_labels.csv  \n",
            "\n",
            "Archive:  test.csv.zip\n",
            "  inflating: ./input/test.csv        \n",
            "\n",
            "4 archives were successfully processed.\n"
          ],
          "name": "stdout"
        }
      ]
    },
    {
      "cell_type": "markdown",
      "metadata": {
        "id": "C__8wFCaio3K",
        "colab_type": "text"
      },
      "source": [
        "## Classifying multi-label comments with Logistic Regression\n",
        "\n",
        "Rhodium Beng\n",
        "Started on 20 December 2017\n",
        "\n",
        "This kernel is inspired by:\n",
        "\n",
        "kernel by Jeremy Howard : NB-SVM strong linear baseline + EDA (0.052 lb)\n",
        "kernel by Issac : logistic regression (0.055 lb)\n",
        "Solving Multi-Label Classification problems, https://www.analyticsvidhya.com/blog/2017/08/introduction-to-multi-label-classification/"
      ]
    },
    {
      "cell_type": "code",
      "metadata": {
        "id": "mtZP6BoUisLA",
        "colab_type": "code",
        "colab": {
          "base_uri": "https://localhost:8080/",
          "height": 53
        },
        "outputId": "b54b6736-9e44-40ec-9692-f6ba41173c98"
      },
      "source": [
        "import numpy as np\n",
        "import pandas as pd\n",
        "from matplotlib import pyplot as plt\n",
        "%matplotlib inline\n",
        "import seaborn as sns\n",
        "import re"
      ],
      "execution_count": 9,
      "outputs": [
        {
          "output_type": "stream",
          "text": [
            "/usr/local/lib/python3.6/dist-packages/statsmodels/tools/_testing.py:19: FutureWarning: pandas.util.testing is deprecated. Use the functions in the public API at pandas.testing instead.\n",
            "  import pandas.util.testing as tm\n"
          ],
          "name": "stderr"
        }
      ]
    },
    {
      "cell_type": "markdown",
      "metadata": {
        "id": "tR4aAkwVkyyY",
        "colab_type": "text"
      },
      "source": [
        "## Load training and test data"
      ]
    },
    {
      "cell_type": "code",
      "metadata": {
        "id": "cOnKiRh9jEBT",
        "colab_type": "code",
        "colab": {}
      },
      "source": [
        "train_df = pd.read_csv('./input/train.csv')\n",
        "test_df = pd.read_csv('./input/test.csv')"
      ],
      "execution_count": 0,
      "outputs": []
    },
    {
      "cell_type": "markdown",
      "metadata": {
        "id": "F6uZ3QJ2lBY_",
        "colab_type": "text"
      },
      "source": [
        "## Examine the data (EDA)"
      ]
    },
    {
      "cell_type": "code",
      "metadata": {
        "id": "l_gsNORUk_mF",
        "colab_type": "code",
        "colab": {
          "base_uri": "https://localhost:8080/",
          "height": 204
        },
        "outputId": "9d380c17-176e-444a-f3d1-609d43528c0e"
      },
      "source": [
        "train_df.sample(5)"
      ],
      "execution_count": 11,
      "outputs": [
        {
          "output_type": "execute_result",
          "data": {
            "text/html": [
              "<div>\n",
              "<style scoped>\n",
              "    .dataframe tbody tr th:only-of-type {\n",
              "        vertical-align: middle;\n",
              "    }\n",
              "\n",
              "    .dataframe tbody tr th {\n",
              "        vertical-align: top;\n",
              "    }\n",
              "\n",
              "    .dataframe thead th {\n",
              "        text-align: right;\n",
              "    }\n",
              "</style>\n",
              "<table border=\"1\" class=\"dataframe\">\n",
              "  <thead>\n",
              "    <tr style=\"text-align: right;\">\n",
              "      <th></th>\n",
              "      <th>id</th>\n",
              "      <th>comment_text</th>\n",
              "      <th>toxic</th>\n",
              "      <th>severe_toxic</th>\n",
              "      <th>obscene</th>\n",
              "      <th>threat</th>\n",
              "      <th>insult</th>\n",
              "      <th>identity_hate</th>\n",
              "    </tr>\n",
              "  </thead>\n",
              "  <tbody>\n",
              "    <tr>\n",
              "      <th>150907</th>\n",
              "      <td>73ff831a51dc1620</td>\n",
              "      <td>Speedy deletion criterion A1 didn't apply; I t...</td>\n",
              "      <td>0</td>\n",
              "      <td>0</td>\n",
              "      <td>0</td>\n",
              "      <td>0</td>\n",
              "      <td>0</td>\n",
              "      <td>0</td>\n",
              "    </tr>\n",
              "    <tr>\n",
              "      <th>139755</th>\n",
              "      <td>ebeb24f8a6d1fd22</td>\n",
              "      <td>Ravenkills97\\n\\nI didn't change the genres on ...</td>\n",
              "      <td>1</td>\n",
              "      <td>0</td>\n",
              "      <td>1</td>\n",
              "      <td>0</td>\n",
              "      <td>0</td>\n",
              "      <td>0</td>\n",
              "    </tr>\n",
              "    <tr>\n",
              "      <th>91475</th>\n",
              "      <td>f49286f41db757b0</td>\n",
              "      <td>I took off Slim Shady LP and MMLP because they...</td>\n",
              "      <td>0</td>\n",
              "      <td>0</td>\n",
              "      <td>0</td>\n",
              "      <td>0</td>\n",
              "      <td>0</td>\n",
              "      <td>0</td>\n",
              "    </tr>\n",
              "    <tr>\n",
              "      <th>41114</th>\n",
              "      <td>6db7af873006a6ee</td>\n",
              "      <td>\"\\n\\nPLEASE DO NOT HURT ME TRYPTOFISH!!!!!! I ...</td>\n",
              "      <td>0</td>\n",
              "      <td>0</td>\n",
              "      <td>0</td>\n",
              "      <td>0</td>\n",
              "      <td>0</td>\n",
              "      <td>0</td>\n",
              "    </tr>\n",
              "    <tr>\n",
              "      <th>148090</th>\n",
              "      <td>46b2ab821941ed5a</td>\n",
              "      <td>It would probably be helpful if you could find...</td>\n",
              "      <td>0</td>\n",
              "      <td>0</td>\n",
              "      <td>0</td>\n",
              "      <td>0</td>\n",
              "      <td>0</td>\n",
              "      <td>0</td>\n",
              "    </tr>\n",
              "  </tbody>\n",
              "</table>\n",
              "</div>"
            ],
            "text/plain": [
              "                      id  ... identity_hate\n",
              "150907  73ff831a51dc1620  ...             0\n",
              "139755  ebeb24f8a6d1fd22  ...             0\n",
              "91475   f49286f41db757b0  ...             0\n",
              "41114   6db7af873006a6ee  ...             0\n",
              "148090  46b2ab821941ed5a  ...             0\n",
              "\n",
              "[5 rows x 8 columns]"
            ]
          },
          "metadata": {
            "tags": []
          },
          "execution_count": 11
        }
      ]
    },
    {
      "cell_type": "markdown",
      "metadata": {
        "id": "cN5xndTKnUAW",
        "colab_type": "text"
      },
      "source": [
        "In the training data, the comments are labelled as one or more of the six categories; toxic, severe_toxic, obscene, threat, insult, identity_hate. This is essentially a multi-label classification problem."
      ]
    },
    {
      "cell_type": "code",
      "metadata": {
        "id": "nEVd0OERnOyc",
        "colab_type": "code",
        "colab": {}
      },
      "source": [
        "cols_target = ['toxic', 'severe_toxic', 'obscene', 'threat', 'insult', 'identity_hate']"
      ],
      "execution_count": 0,
      "outputs": []
    },
    {
      "cell_type": "code",
      "metadata": {
        "id": "CzLR_CI1nzb5",
        "colab_type": "code",
        "colab": {
          "base_uri": "https://localhost:8080/",
          "height": 297
        },
        "outputId": "e596e9fb-3790-431e-e11e-5c6105f8b956"
      },
      "source": [
        "# check missing values in numeric columns\n",
        "train_df.describe()"
      ],
      "execution_count": 13,
      "outputs": [
        {
          "output_type": "execute_result",
          "data": {
            "text/html": [
              "<div>\n",
              "<style scoped>\n",
              "    .dataframe tbody tr th:only-of-type {\n",
              "        vertical-align: middle;\n",
              "    }\n",
              "\n",
              "    .dataframe tbody tr th {\n",
              "        vertical-align: top;\n",
              "    }\n",
              "\n",
              "    .dataframe thead th {\n",
              "        text-align: right;\n",
              "    }\n",
              "</style>\n",
              "<table border=\"1\" class=\"dataframe\">\n",
              "  <thead>\n",
              "    <tr style=\"text-align: right;\">\n",
              "      <th></th>\n",
              "      <th>toxic</th>\n",
              "      <th>severe_toxic</th>\n",
              "      <th>obscene</th>\n",
              "      <th>threat</th>\n",
              "      <th>insult</th>\n",
              "      <th>identity_hate</th>\n",
              "    </tr>\n",
              "  </thead>\n",
              "  <tbody>\n",
              "    <tr>\n",
              "      <th>count</th>\n",
              "      <td>159571.000000</td>\n",
              "      <td>159571.000000</td>\n",
              "      <td>159571.000000</td>\n",
              "      <td>159571.000000</td>\n",
              "      <td>159571.000000</td>\n",
              "      <td>159571.000000</td>\n",
              "    </tr>\n",
              "    <tr>\n",
              "      <th>mean</th>\n",
              "      <td>0.095844</td>\n",
              "      <td>0.009996</td>\n",
              "      <td>0.052948</td>\n",
              "      <td>0.002996</td>\n",
              "      <td>0.049364</td>\n",
              "      <td>0.008805</td>\n",
              "    </tr>\n",
              "    <tr>\n",
              "      <th>std</th>\n",
              "      <td>0.294379</td>\n",
              "      <td>0.099477</td>\n",
              "      <td>0.223931</td>\n",
              "      <td>0.054650</td>\n",
              "      <td>0.216627</td>\n",
              "      <td>0.093420</td>\n",
              "    </tr>\n",
              "    <tr>\n",
              "      <th>min</th>\n",
              "      <td>0.000000</td>\n",
              "      <td>0.000000</td>\n",
              "      <td>0.000000</td>\n",
              "      <td>0.000000</td>\n",
              "      <td>0.000000</td>\n",
              "      <td>0.000000</td>\n",
              "    </tr>\n",
              "    <tr>\n",
              "      <th>25%</th>\n",
              "      <td>0.000000</td>\n",
              "      <td>0.000000</td>\n",
              "      <td>0.000000</td>\n",
              "      <td>0.000000</td>\n",
              "      <td>0.000000</td>\n",
              "      <td>0.000000</td>\n",
              "    </tr>\n",
              "    <tr>\n",
              "      <th>50%</th>\n",
              "      <td>0.000000</td>\n",
              "      <td>0.000000</td>\n",
              "      <td>0.000000</td>\n",
              "      <td>0.000000</td>\n",
              "      <td>0.000000</td>\n",
              "      <td>0.000000</td>\n",
              "    </tr>\n",
              "    <tr>\n",
              "      <th>75%</th>\n",
              "      <td>0.000000</td>\n",
              "      <td>0.000000</td>\n",
              "      <td>0.000000</td>\n",
              "      <td>0.000000</td>\n",
              "      <td>0.000000</td>\n",
              "      <td>0.000000</td>\n",
              "    </tr>\n",
              "    <tr>\n",
              "      <th>max</th>\n",
              "      <td>1.000000</td>\n",
              "      <td>1.000000</td>\n",
              "      <td>1.000000</td>\n",
              "      <td>1.000000</td>\n",
              "      <td>1.000000</td>\n",
              "      <td>1.000000</td>\n",
              "    </tr>\n",
              "  </tbody>\n",
              "</table>\n",
              "</div>"
            ],
            "text/plain": [
              "               toxic   severe_toxic  ...         insult  identity_hate\n",
              "count  159571.000000  159571.000000  ...  159571.000000  159571.000000\n",
              "mean        0.095844       0.009996  ...       0.049364       0.008805\n",
              "std         0.294379       0.099477  ...       0.216627       0.093420\n",
              "min         0.000000       0.000000  ...       0.000000       0.000000\n",
              "25%         0.000000       0.000000  ...       0.000000       0.000000\n",
              "50%         0.000000       0.000000  ...       0.000000       0.000000\n",
              "75%         0.000000       0.000000  ...       0.000000       0.000000\n",
              "max         1.000000       1.000000  ...       1.000000       1.000000\n",
              "\n",
              "[8 rows x 6 columns]"
            ]
          },
          "metadata": {
            "tags": []
          },
          "execution_count": 13
        }
      ]
    },
    {
      "cell_type": "markdown",
      "metadata": {
        "id": "Z4qv8OwgoCDE",
        "colab_type": "text"
      },
      "source": [
        "There are no missing numeric values. As the mean values are very small (some way below 0.05), there would be many not labelled as positive in the six categories. From this, I guess that there would be many comments which are not labelled in any of the six categories. Let's take a look."
      ]
    },
    {
      "cell_type": "code",
      "metadata": {
        "id": "IR2AmnkUn-oi",
        "colab_type": "code",
        "colab": {
          "base_uri": "https://localhost:8080/",
          "height": 35
        },
        "outputId": "4a7d5a17-2a67-488a-94ad-8c1b3f1d629c"
      },
      "source": [
        "unlabelled_in_all = train_df[(train_df['toxic'] != 1) & (train_df['severe_toxic'] != 1)\n",
        "                             & (train_df['obscene'] != 1) & (train_df['threat'] != 1)\n",
        "                             & (train_df['insult'] != 1) & (train_df['identity_hate'] != 1)]\n",
        "print('Percentage of unlabelled comments is ', len(unlabelled_in_all) / len(train_df) * 100)                             "
      ],
      "execution_count": 14,
      "outputs": [
        {
          "output_type": "stream",
          "text": [
            "Percentage of unlabelled comments is  89.83211235124176\n"
          ],
          "name": "stdout"
        }
      ]
    },
    {
      "cell_type": "code",
      "metadata": {
        "id": "7OfaGeqLpT7-",
        "colab_type": "code",
        "colab": {
          "base_uri": "https://localhost:8080/",
          "height": 35
        },
        "outputId": "06221b2e-1bd8-4f72-c630-7acdbef0eda1"
      },
      "source": [
        "# check for any 'null' comment\n",
        "no_comment = train_df[train_df['comment_text'].isnull()]\n",
        "len(no_comment)"
      ],
      "execution_count": 15,
      "outputs": [
        {
          "output_type": "execute_result",
          "data": {
            "text/plain": [
              "0"
            ]
          },
          "metadata": {
            "tags": []
          },
          "execution_count": 15
        }
      ]
    },
    {
      "cell_type": "code",
      "metadata": {
        "id": "mGKLmn5YplcD",
        "colab_type": "code",
        "colab": {
          "base_uri": "https://localhost:8080/",
          "height": 204
        },
        "outputId": "251590f7-92f2-460b-b6ec-0a9cb82e65e0"
      },
      "source": [
        "test_df.head()"
      ],
      "execution_count": 16,
      "outputs": [
        {
          "output_type": "execute_result",
          "data": {
            "text/html": [
              "<div>\n",
              "<style scoped>\n",
              "    .dataframe tbody tr th:only-of-type {\n",
              "        vertical-align: middle;\n",
              "    }\n",
              "\n",
              "    .dataframe tbody tr th {\n",
              "        vertical-align: top;\n",
              "    }\n",
              "\n",
              "    .dataframe thead th {\n",
              "        text-align: right;\n",
              "    }\n",
              "</style>\n",
              "<table border=\"1\" class=\"dataframe\">\n",
              "  <thead>\n",
              "    <tr style=\"text-align: right;\">\n",
              "      <th></th>\n",
              "      <th>id</th>\n",
              "      <th>comment_text</th>\n",
              "    </tr>\n",
              "  </thead>\n",
              "  <tbody>\n",
              "    <tr>\n",
              "      <th>0</th>\n",
              "      <td>00001cee341fdb12</td>\n",
              "      <td>Yo bitch Ja Rule is more succesful then you'll...</td>\n",
              "    </tr>\n",
              "    <tr>\n",
              "      <th>1</th>\n",
              "      <td>0000247867823ef7</td>\n",
              "      <td>== From RfC == \\n\\n The title is fine as it is...</td>\n",
              "    </tr>\n",
              "    <tr>\n",
              "      <th>2</th>\n",
              "      <td>00013b17ad220c46</td>\n",
              "      <td>\" \\n\\n == Sources == \\n\\n * Zawe Ashton on Lap...</td>\n",
              "    </tr>\n",
              "    <tr>\n",
              "      <th>3</th>\n",
              "      <td>00017563c3f7919a</td>\n",
              "      <td>:If you have a look back at the source, the in...</td>\n",
              "    </tr>\n",
              "    <tr>\n",
              "      <th>4</th>\n",
              "      <td>00017695ad8997eb</td>\n",
              "      <td>I don't anonymously edit articles at all.</td>\n",
              "    </tr>\n",
              "  </tbody>\n",
              "</table>\n",
              "</div>"
            ],
            "text/plain": [
              "                 id                                       comment_text\n",
              "0  00001cee341fdb12  Yo bitch Ja Rule is more succesful then you'll...\n",
              "1  0000247867823ef7  == From RfC == \\n\\n The title is fine as it is...\n",
              "2  00013b17ad220c46  \" \\n\\n == Sources == \\n\\n * Zawe Ashton on Lap...\n",
              "3  00017563c3f7919a  :If you have a look back at the source, the in...\n",
              "4  00017695ad8997eb          I don't anonymously edit articles at all."
            ]
          },
          "metadata": {
            "tags": []
          },
          "execution_count": 16
        }
      ]
    },
    {
      "cell_type": "code",
      "metadata": {
        "id": "FF12deYdpmTU",
        "colab_type": "code",
        "colab": {
          "base_uri": "https://localhost:8080/",
          "height": 49
        },
        "outputId": "0193af1b-ce40-4537-8879-e2bb1a55d07c"
      },
      "source": [
        "no_comment = test_df[test_df['comment_text'].isnull()]\n",
        "no_comment"
      ],
      "execution_count": 17,
      "outputs": [
        {
          "output_type": "execute_result",
          "data": {
            "text/html": [
              "<div>\n",
              "<style scoped>\n",
              "    .dataframe tbody tr th:only-of-type {\n",
              "        vertical-align: middle;\n",
              "    }\n",
              "\n",
              "    .dataframe tbody tr th {\n",
              "        vertical-align: top;\n",
              "    }\n",
              "\n",
              "    .dataframe thead th {\n",
              "        text-align: right;\n",
              "    }\n",
              "</style>\n",
              "<table border=\"1\" class=\"dataframe\">\n",
              "  <thead>\n",
              "    <tr style=\"text-align: right;\">\n",
              "      <th></th>\n",
              "      <th>id</th>\n",
              "      <th>comment_text</th>\n",
              "    </tr>\n",
              "  </thead>\n",
              "  <tbody>\n",
              "  </tbody>\n",
              "</table>\n",
              "</div>"
            ],
            "text/plain": [
              "Empty DataFrame\n",
              "Columns: [id, comment_text]\n",
              "Index: []"
            ]
          },
          "metadata": {
            "tags": []
          },
          "execution_count": 17
        }
      ]
    },
    {
      "cell_type": "markdown",
      "metadata": {
        "id": "u9LiJa20p1c8",
        "colab_type": "text"
      },
      "source": [
        "All rows in the training and test data contains comments, so there's no need to clean up null fields."
      ]
    },
    {
      "cell_type": "code",
      "metadata": {
        "id": "HrAb3N-Hp_E5",
        "colab_type": "code",
        "colab": {
          "base_uri": "https://localhost:8080/",
          "height": 179
        },
        "outputId": "97fea6b7-2a87-449b-daaa-e0c1c0cbfeb5"
      },
      "source": [
        "# let's see the total rows in train, test data and the numbers for the various categories\n",
        "print(\"Total rows in test is {}\".format(len(test_df)))\n",
        "print(\"Total rows in train is {}\".format(len(train_df)))\n",
        "print(train_df[cols_target].sum())"
      ],
      "execution_count": 18,
      "outputs": [
        {
          "output_type": "stream",
          "text": [
            "Total rows in test is 153164\n",
            "Total rows in train is 159571\n",
            "toxic            15294\n",
            "severe_toxic      1595\n",
            "obscene           8449\n",
            "threat             478\n",
            "insult            7877\n",
            "identity_hate     1405\n",
            "dtype: int64\n"
          ],
          "name": "stdout"
        }
      ]
    },
    {
      "cell_type": "markdown",
      "metadata": {
        "id": "tjvKGSLOrxLg",
        "colab_type": "text"
      },
      "source": [
        "As mentioned earlier, majority of the comments in the training data are not labelled in one or more of these categories."
      ]
    },
    {
      "cell_type": "code",
      "metadata": {
        "id": "1qUqkNAUr9Sv",
        "colab_type": "code",
        "colab": {}
      },
      "source": [
        "# Let's look at the character length for the rows in the training data and record these\n",
        "train_df['char_length'] = train_df['comment_text'].apply(lambda x: len(str(x)))"
      ],
      "execution_count": 0,
      "outputs": []
    },
    {
      "cell_type": "code",
      "metadata": {
        "id": "LUAHunFXsTuU",
        "colab_type": "code",
        "colab": {
          "base_uri": "https://localhost:8080/",
          "height": 268
        },
        "outputId": "0bb13783-9e8b-473c-d1b9-c79ef8dfa3ad"
      },
      "source": [
        "# look at the histogram plot for text length\n",
        "sns.set()\n",
        "train_df['char_length'].hist()\n",
        "plt.show()"
      ],
      "execution_count": 20,
      "outputs": [
        {
          "output_type": "display_data",
          "data": {
            "image/png": "[encoded data removed]",
            "text/plain": [
              "<Figure size 432x288 with 1 Axes>"
            ]
          },
          "metadata": {
            "tags": []
          }
        }
      ]
    },
    {
      "cell_type": "markdown",
      "metadata": {
        "id": "nq7-o3P2tRK3",
        "colab_type": "text"
      },
      "source": [
        "Most of the text length within 500 characters, with some up to 5,000 characters long."
      ]
    },
    {
      "cell_type": "markdown",
      "metadata": {
        "id": "ndpXox1VtcRp",
        "colab_type": "text"
      },
      "source": [
        "Next, let's examine the correlations among the target variables."
      ]
    },
    {
      "cell_type": "code",
      "metadata": {
        "id": "k0rotfWotQts",
        "colab_type": "code",
        "colab": {}
      },
      "source": [
        "data = train_df[cols_target]"
      ],
      "execution_count": 0,
      "outputs": []
    },
    {
      "cell_type": "code",
      "metadata": {
        "id": "D0pnEmvftkjb",
        "colab_type": "code",
        "colab": {
          "base_uri": "https://localhost:8080/",
          "height": 482
        },
        "outputId": "5d370c9c-18e9-4a49-ee70-266e90f3dfb5"
      },
      "source": [
        "colormap = plt.cm.plasma\n",
        "plt.figure(figsize=(7,7))\n",
        "plt.title('Correlation on features & targets', y=1.05, size=14)\n",
        "sns.heatmap(data.astype(float).corr(), linewidths=0.1, vmax=1.0, square=True, \n",
        "            annot=True, cmap=colormap, linecolor='white')"
      ],
      "execution_count": 22,
      "outputs": [
        {
          "output_type": "execute_result",
          "data": {
            "text/plain": [
              "<matplotlib.axes._subplots.AxesSubplot at 0x7f0856311f28>"
            ]
          },
          "metadata": {
            "tags": []
          },
          "execution_count": 22
        },
        {
          "output_type": "display_data",
          "data": {
            "image/png": "[encoded data removed]",
            "text/plain": [
              "<Figure size 504x504 with 2 Axes>"
            ]
          },
          "metadata": {
            "tags": []
          }
        }
      ]
    },
    {
      "cell_type": "markdown",
      "metadata": {
        "id": "2q48ovC7xHgQ",
        "colab_type": "text"
      },
      "source": [
        "Indeed, it looks like some of the labels are higher correlated, e.g. insult-obscene has the highest at 0.74, followed by toxic-obscene and toxic-insult."
      ]
    },
    {
      "cell_type": "markdown",
      "metadata": {
        "id": "0D5pWJBZx1IO",
        "colab_type": "text"
      },
      "source": [
        "What about the character length & distribution of the comment text in the test data?"
      ]
    },
    {
      "cell_type": "code",
      "metadata": {
        "id": "uLjjtASgx-6s",
        "colab_type": "code",
        "colab": {}
      },
      "source": [
        "test_df['char_length'] = test_df['comment_text'].apply(lambda x: len(str(x)))"
      ],
      "execution_count": 0,
      "outputs": []
    },
    {
      "cell_type": "code",
      "metadata": {
        "id": "zDygDB3XyWnM",
        "colab_type": "code",
        "colab": {
          "base_uri": "https://localhost:8080/",
          "height": 268
        },
        "outputId": "9b81a415-a4c2-40c3-97f6-2348ecd96578"
      },
      "source": [
        "plt.figure()\n",
        "plt.hist(test_df['char_length'])\n",
        "plt.show()"
      ],
      "execution_count": 24,
      "outputs": [
        {
          "output_type": "display_data",
          "data": {
            "image/png": "[encoded data removed]",
            "text/plain": [
              "<Figure size 432x288 with 1 Axes>"
            ]
          },
          "metadata": {
            "tags": []
          }
        }
      ]
    },
    {
      "cell_type": "markdown",
      "metadata": {
        "id": "Df2xVmZgyqBO",
        "colab_type": "text"
      },
      "source": [
        "Now, the shape of character length distribution looks similar between the training data and the train data. For the training data, I guess the train data were clipped to 5,000 characters to facilitate the folks who did the labelling of the comment categories."
      ]
    },
    {
      "cell_type": "markdown",
      "metadata": {
        "id": "W8g01wvdyr4m",
        "colab_type": "text"
      },
      "source": [
        "## Clean up the comment text"
      ]
    },
    {
      "cell_type": "code",
      "metadata": {
        "id": "y2jabNgyyqpF",
        "colab_type": "code",
        "colab": {}
      },
      "source": [
        "def clean_text(text):\n",
        "    text = text.lower()\n",
        "    text = re.sub(r\"what's\", \"what is \", text)\n",
        "    text = re.sub(r\"\\'s\", \" \", text)\n",
        "    text = re.sub(r\"\\'ve\", \" have \", text)\n",
        "    text = re.sub(r\"can't\", \"cannot \", text)\n",
        "    text = re.sub(r\"n't\", \" not \", text)\n",
        "    text = re.sub(r\"i'm\", \"i am \", text)\n",
        "    text = re.sub(r\"\\'re\", \" are \", text)\n",
        "    text = re.sub(r\"\\'d\", \" would \", text)\n",
        "    text = re.sub(r\"\\'ll\", \" will \", text)\n",
        "    text = re.sub(r\"\\'scuse\", \" excuse \", text)\n",
        "    text = re.sub('\\W', ' ', text)\n",
        "    text = re.sub('\\s+', ' ', text)\n",
        "    text = text.strip(' ')\n",
        "    return text  "
      ],
      "execution_count": 0,
      "outputs": []
    },
    {
      "cell_type": "code",
      "metadata": {
        "id": "jHN3eb0_y2Q3",
        "colab_type": "code",
        "colab": {}
      },
      "source": [
        "# clean the comment_text in train_df \n",
        "train_df['comment_text'] = train_df['comment_text'].map(lambda com: clean_text(com))"
      ],
      "execution_count": 0,
      "outputs": []
    },
    {
      "cell_type": "code",
      "metadata": {
        "id": "iIRV3KMO0j76",
        "colab_type": "code",
        "colab": {}
      },
      "source": [
        "# clean the comment_text in test_df\n",
        "test_df['comment_text'] = test_df['comment_text'].map(lambda com: clean_text(com))"
      ],
      "execution_count": 0,
      "outputs": []
    },
    {
      "cell_type": "markdown",
      "metadata": {
        "id": "KV__J29R1JbE",
        "colab_type": "text"
      },
      "source": [
        "## Define X from entire train & test data for use in tokenization by Vectorizer"
      ]
    },
    {
      "cell_type": "code",
      "metadata": {
        "id": "livFQLZW1IqO",
        "colab_type": "code",
        "colab": {}
      },
      "source": [
        "train_df = train_df.drop('char_length', axis=1)"
      ],
      "execution_count": 0,
      "outputs": []
    },
    {
      "cell_type": "code",
      "metadata": {
        "id": "82bjU13l0tRv",
        "colab_type": "code",
        "colab": {}
      },
      "source": [
        "X = train_df.comment_text\n",
        "test_X = test_df.comment_text"
      ],
      "execution_count": 0,
      "outputs": []
    },
    {
      "cell_type": "code",
      "metadata": {
        "id": "J3R901991Vfz",
        "colab_type": "code",
        "colab": {
          "base_uri": "https://localhost:8080/",
          "height": 35
        },
        "outputId": "53c5d61a-29d5-4984-a5ed-e35756c678ab"
      },
      "source": [
        "print(X.shape, test_X.shape)"
      ],
      "execution_count": 30,
      "outputs": [
        {
          "output_type": "stream",
          "text": [
            "(159571,) (153164,)\n"
          ],
          "name": "stdout"
        }
      ]
    },
    {
      "cell_type": "markdown",
      "metadata": {
        "id": "cyTgeLx91cdG",
        "colab_type": "text"
      },
      "source": [
        "### Vectorize the data"
      ]
    },
    {
      "cell_type": "code",
      "metadata": {
        "id": "XdYiT8mu1eQ7",
        "colab_type": "code",
        "colab": {
          "base_uri": "https://localhost:8080/",
          "height": 143
        },
        "outputId": "0e3e9ef7-a56b-4ac0-f8d8-39ba23b4d771"
      },
      "source": [
        "# https://datascienceschool.net/view-notebook/3e7aadbf88ed4f0d87a76f9ddc925d69/\n",
        "# import and instantiate TfidfVectorizer\n",
        "from sklearn.feature_extraction.text import CountVectorizer\n",
        "from sklearn.feature_extraction.text import TfidfVectorizer\n",
        "\n",
        "vect = TfidfVectorizer(max_features=5000, stop_words='english')\n",
        "vect"
      ],
      "execution_count": 32,
      "outputs": [
        {
          "output_type": "execute_result",
          "data": {
            "text/plain": [
              "TfidfVectorizer(analyzer='word', binary=False, decode_error='strict',\n",
              "                dtype=<class 'numpy.float64'>, encoding='utf-8',\n",
              "                input='content', lowercase=True, max_df=1.0, max_features=5000,\n",
              "                min_df=1, ngram_range=(1, 1), norm='l2', preprocessor=None,\n",
              "                smooth_idf=True, stop_words='english', strip_accents=None,\n",
              "                sublinear_tf=False, token_pattern='(?u)\\\\b\\\\w\\\\w+\\\\b',\n",
              "                tokenizer=None, use_idf=True, vocabulary=None)"
            ]
          },
          "metadata": {
            "tags": []
          },
          "execution_count": 32
        }
      ]
    },
    {
      "cell_type": "code",
      "metadata": {
        "id": "c-5H8Wv_1--W",
        "colab_type": "code",
        "colab": {
          "base_uri": "https://localhost:8080/",
          "height": 53
        },
        "outputId": "8cc7b07f-460a-47e6-ee1f-92ee8c166f32"
      },
      "source": [
        "# learn the vocabulary in the training data, then use it to create a document-term matrix\n",
        "X_dtm = vect.fit_transform(X)\n",
        "X_dtm"
      ],
      "execution_count": 33,
      "outputs": [
        {
          "output_type": "execute_result",
          "data": {
            "text/plain": [
              "<159571x5000 sparse matrix of type '<class 'numpy.float64'>'\n",
              "\twith 3178792 stored elements in Compressed Sparse Row format>"
            ]
          },
          "metadata": {
            "tags": []
          },
          "execution_count": 33
        }
      ]
    },
    {
      "cell_type": "code",
      "metadata": {
        "id": "FVN4ebgL3Zom",
        "colab_type": "code",
        "colab": {
          "base_uri": "https://localhost:8080/",
          "height": 53
        },
        "outputId": "c41be9c3-15f1-40c7-f7c9-ff4fcdb090fc"
      },
      "source": [
        "# transform the test data using the earlier fitted vocabulary, into a document-term matrix\n",
        "test_X_dtm = vect.transform(test_X)\n",
        "test_X_dtm"
      ],
      "execution_count": 34,
      "outputs": [
        {
          "output_type": "execute_result",
          "data": {
            "text/plain": [
              "<153164x5000 sparse matrix of type '<class 'numpy.float64'>'\n",
              "\twith 2618972 stored elements in Compressed Sparse Row format>"
            ]
          },
          "metadata": {
            "tags": []
          },
          "execution_count": 34
        }
      ]
    },
    {
      "cell_type": "markdown",
      "metadata": {
        "id": "NnGiLgA74DTd",
        "colab_type": "text"
      },
      "source": [
        "## Solving a multi-label classification problem\n",
        "\n",
        "One way to approach a multi-label classification problem is to transform the problem into separate single-class classifier problems. This is known as 'problem transformation'. There are three methods:\n",
        "\n",
        "* __Binary Relevance.__ This is probably the simplest which treats each label as a separate single classification problems. The key assumption here though, is that there are no correlation among the various labels.\n",
        "\n",
        "* __Classifier Chains.__ In this method, the first classifier is trained on the input X. Then the subsequent classifiers are trained on the input X and all previous classifiers' predictions in the chain. This method attempts to draw the signals from the correlation among preceding target variables.\n",
        "\n",
        "* __Label Powerset.__ This method transforms the problem into a multi-class problem where the multi-class labels are essentially all the unique label combinations. In our case here, where there are six labels, Label Powerset would in effect turn this into a 2^6 or 64-class problem. {Thanks Joshua for pointing out.}"
      ]
    },
    {
      "cell_type": "markdown",
      "metadata": {
        "id": "TDsoC_8N53tC",
        "colab_type": "text"
      },
      "source": [
        "### Binary Relevance - build a multi-label classifier using Logistic Regression"
      ]
    },
    {
      "cell_type": "code",
      "metadata": {
        "id": "qIsWLnQs5cmI",
        "colab_type": "code",
        "colab": {
          "base_uri": "https://localhost:8080/",
          "height": 233
        },
        "outputId": "c129da7d-4f34-43bd-a64d-f5756b4eef39"
      },
      "source": [
        "# import and instantiate the Logistic Regression model\n",
        "from sklearn.linear_model import LogisticRegression\n",
        "from sklearn.metrics import accuracy_score\n",
        "logreg = LogisticRegression(C=12.0, max_iter=1000)\n",
        "\n",
        "# create submission file\n",
        "submission_binary = pd.read_csv('./input/sample_submission.csv')\n",
        "\n",
        "for label in cols_target:\n",
        "  print('... Processing {}'.format(label))\n",
        "  y = train_df[label]\n",
        "  # train the model using X_dtm & y\n",
        "  logreg.fit(X_dtm, y)\n",
        "  # compute the training accuracy\n",
        "  y_pred_X = logreg.predict(X_dtm)\n",
        "  print('Training accuracy is {}'.format(accuracy_score(y, y_pred_X)))\n",
        "  # compute the predicted probabilities for X_test_dtm\n",
        "  test_y_prob = logreg.predict_proba(test_X_dtm)[:,1]\n",
        "  submission_binary[label] = test_y_prob"
      ],
      "execution_count": 37,
      "outputs": [
        {
          "output_type": "stream",
          "text": [
            "... Processing toxic\n",
            "Training accuracy is 0.9639972175395278\n",
            "... Processing severe_toxic\n",
            "Training accuracy is 0.9920724943755445\n",
            "... Processing obscene\n",
            "Training accuracy is 0.9832300355327722\n",
            "... Processing threat\n",
            "Training accuracy is 0.9981199591404453\n",
            "... Processing insult\n",
            "Training accuracy is 0.9755406684171936\n",
            "... Processing identity_hate\n",
            "Training accuracy is 0.9939650688408295\n"
          ],
          "name": "stdout"
        }
      ]
    },
    {
      "cell_type": "markdown",
      "metadata": {
        "id": "eG-F0Kyb9ONP",
        "colab_type": "text"
      },
      "source": [
        "**Create submission file**"
      ]
    },
    {
      "cell_type": "code",
      "metadata": {
        "id": "mJ6Vsa359S0q",
        "colab_type": "code",
        "colab": {
          "base_uri": "https://localhost:8080/",
          "height": 204
        },
        "outputId": "fd5b955b-7b41-43fb-9233-03b2c2285900"
      },
      "source": [
        "submission_binary.head()"
      ],
      "execution_count": 38,
      "outputs": [
        {
          "output_type": "execute_result",
          "data": {
            "text/html": [
              "<div>\n",
              "<style scoped>\n",
              "    .dataframe tbody tr th:only-of-type {\n",
              "        vertical-align: middle;\n",
              "    }\n",
              "\n",
              "    .dataframe tbody tr th {\n",
              "        vertical-align: top;\n",
              "    }\n",
              "\n",
              "    .dataframe thead th {\n",
              "        text-align: right;\n",
              "    }\n",
              "</style>\n",
              "<table border=\"1\" class=\"dataframe\">\n",
              "  <thead>\n",
              "    <tr style=\"text-align: right;\">\n",
              "      <th></th>\n",
              "      <th>id</th>\n",
              "      <th>toxic</th>\n",
              "      <th>severe_toxic</th>\n",
              "      <th>obscene</th>\n",
              "      <th>threat</th>\n",
              "      <th>insult</th>\n",
              "      <th>identity_hate</th>\n",
              "    </tr>\n",
              "  </thead>\n",
              "  <tbody>\n",
              "    <tr>\n",
              "      <th>0</th>\n",
              "      <td>00001cee341fdb12</td>\n",
              "      <td>0.999957</td>\n",
              "      <td>0.464040</td>\n",
              "      <td>0.999965</td>\n",
              "      <td>0.050385</td>\n",
              "      <td>0.971129</td>\n",
              "      <td>0.431952</td>\n",
              "    </tr>\n",
              "    <tr>\n",
              "      <th>1</th>\n",
              "      <td>0000247867823ef7</td>\n",
              "      <td>0.002398</td>\n",
              "      <td>0.000430</td>\n",
              "      <td>0.000400</td>\n",
              "      <td>0.000326</td>\n",
              "      <td>0.003280</td>\n",
              "      <td>0.000394</td>\n",
              "    </tr>\n",
              "    <tr>\n",
              "      <th>2</th>\n",
              "      <td>00013b17ad220c46</td>\n",
              "      <td>0.011102</td>\n",
              "      <td>0.000118</td>\n",
              "      <td>0.003178</td>\n",
              "      <td>0.000035</td>\n",
              "      <td>0.007277</td>\n",
              "      <td>0.001248</td>\n",
              "    </tr>\n",
              "    <tr>\n",
              "      <th>3</th>\n",
              "      <td>00017563c3f7919a</td>\n",
              "      <td>0.001328</td>\n",
              "      <td>0.002133</td>\n",
              "      <td>0.000965</td>\n",
              "      <td>0.000117</td>\n",
              "      <td>0.000873</td>\n",
              "      <td>0.000033</td>\n",
              "    </tr>\n",
              "    <tr>\n",
              "      <th>4</th>\n",
              "      <td>00017695ad8997eb</td>\n",
              "      <td>0.019292</td>\n",
              "      <td>0.000831</td>\n",
              "      <td>0.001250</td>\n",
              "      <td>0.000601</td>\n",
              "      <td>0.003279</td>\n",
              "      <td>0.000564</td>\n",
              "    </tr>\n",
              "  </tbody>\n",
              "</table>\n",
              "</div>"
            ],
            "text/plain": [
              "                 id     toxic  severe_toxic  ...    threat    insult  identity_hate\n",
              "0  00001cee341fdb12  0.999957      0.464040  ...  0.050385  0.971129       0.431952\n",
              "1  0000247867823ef7  0.002398      0.000430  ...  0.000326  0.003280       0.000394\n",
              "2  00013b17ad220c46  0.011102      0.000118  ...  0.000035  0.007277       0.001248\n",
              "3  00017563c3f7919a  0.001328      0.002133  ...  0.000117  0.000873       0.000033\n",
              "4  00017695ad8997eb  0.019292      0.000831  ...  0.000601  0.003279       0.000564\n",
              "\n",
              "[5 rows x 7 columns]"
            ]
          },
          "metadata": {
            "tags": []
          },
          "execution_count": 38
        }
      ]
    },
    {
      "cell_type": "code",
      "metadata": {
        "id": "qCfUUfyk9l0m",
        "colab_type": "code",
        "colab": {}
      },
      "source": [
        "# generate submission file\n",
        "submission_binary.to_csv('submission_binary.csv',index=False)"
      ],
      "execution_count": 0,
      "outputs": []
    },
    {
      "cell_type": "markdown",
      "metadata": {
        "id": "OF29jfKG970c",
        "colab_type": "text"
      },
      "source": [
        "**Binary Relevance with Logistic Regression classifier scored 0.074 on the public leaderboard.**"
      ]
    },
    {
      "cell_type": "markdown",
      "metadata": {
        "id": "DwK0L_d2-CPj",
        "colab_type": "text"
      },
      "source": [
        "### Classifier Chains - build a multi-label classifier using Logistic Regression"
      ]
    },
    {
      "cell_type": "code",
      "metadata": {
        "id": "7tvhcgRA-Mf4",
        "colab_type": "code",
        "colab": {}
      },
      "source": [
        "# create submission file\n",
        "submission_chains = pd.read_csv('./input/sample_submission.csv')\n",
        "\n",
        "# create a function to add features\n",
        "def add_feature(X, feature_to_add):\n",
        "    '''\n",
        "    Returns sparse feature matrix with added feature.\n",
        "    feature_to_add can also be a list of features.\n",
        "    '''\n",
        "    from scipy.sparse import csr_matrix, hstack\n",
        "    return hstack([X, csr_matrix(feature_to_add).T], 'csr')"
      ],
      "execution_count": 0,
      "outputs": []
    },
    {
      "cell_type": "code",
      "metadata": {
        "id": "S4dXPvoH-3B_",
        "colab_type": "code",
        "colab": {
          "base_uri": "https://localhost:8080/",
          "height": 449
        },
        "outputId": "56355d94-cc5b-40bc-aa73-2fca3f629f74"
      },
      "source": [
        "for label in cols_target:\n",
        "  print('... Processing {}'.format(label))\n",
        "  y = train_df[label]\n",
        "  # train the model using X_dtm & y\n",
        "  logreg.fit(X_dtm, y)\n",
        "  # compute the training accuracy\n",
        "  y_pred_X = logreg.predict(X_dtm)\n",
        "  print('Training Accuracy is {}'.format(accuracy_score(y, y_pred_X)))\n",
        "  # make predictions from test_X\n",
        "  test_y = logreg.predict(test_X_dtm)\n",
        "  test_y_prob = logreg.predict_proba(test_X_dtm)[:,1]\n",
        "  submission_chains[label] = test_y_prob\n",
        "  # chain current label to X_dtm\n",
        "  X_dtm = add_feature(X_dtm, y)\n",
        "  print('Shape of X_dtm is now {}'.format(X_dtm.shape))\n",
        "  # chain current label predictions to test_X_dtm\n",
        "  test_X_dtm = add_feature(test_X_dtm, test_y)\n",
        "  print('Shape of test_X_dtm is now {}'.format(test_X_dtm.shape))  "
      ],
      "execution_count": 42,
      "outputs": [
        {
          "output_type": "stream",
          "text": [
            "... Processing toxic\n",
            "Training Accuracy is 0.9639972175395278\n",
            "Shape of X_dtm is now (159571, 5001)\n",
            "Shape of test_X_dtm is now (153164, 5001)\n",
            "... Processing severe_toxic\n",
            "Training Accuracy is 0.9926239730276805\n",
            "Shape of X_dtm is now (159571, 5002)\n",
            "Shape of test_X_dtm is now (153164, 5002)\n",
            "... Processing obscene\n",
            "Training Accuracy is 0.9852980804782824\n",
            "Shape of X_dtm is now (159571, 5003)\n",
            "Shape of test_X_dtm is now (153164, 5003)\n",
            "... Processing threat\n",
            "Training Accuracy is 0.9984395660865696\n",
            "Shape of X_dtm is now (159571, 5004)\n",
            "Shape of test_X_dtm is now (153164, 5004)\n",
            "... Processing insult\n",
            "Training Accuracy is 0.9826973572892318\n",
            "Shape of X_dtm is now (159571, 5005)\n",
            "Shape of test_X_dtm is now (153164, 5005)\n",
            "... Processing identity_hate\n",
            "Training Accuracy is 0.9956195047972376\n",
            "Shape of X_dtm is now (159571, 5006)\n",
            "Shape of test_X_dtm is now (153164, 5006)\n"
          ],
          "name": "stdout"
        }
      ]
    },
    {
      "cell_type": "markdown",
      "metadata": {
        "id": "rPJC2wqeA4NO",
        "colab_type": "text"
      },
      "source": [
        "**Create submission file**"
      ]
    },
    {
      "cell_type": "code",
      "metadata": {
        "id": "si1EY4TLArgZ",
        "colab_type": "code",
        "colab": {
          "base_uri": "https://localhost:8080/",
          "height": 204
        },
        "outputId": "d98d1341-7cbd-4ffd-fcea-47b3717af8a6"
      },
      "source": [
        "submission_chains.head()"
      ],
      "execution_count": 43,
      "outputs": [
        {
          "output_type": "execute_result",
          "data": {
            "text/html": [
              "<div>\n",
              "<style scoped>\n",
              "    .dataframe tbody tr th:only-of-type {\n",
              "        vertical-align: middle;\n",
              "    }\n",
              "\n",
              "    .dataframe tbody tr th {\n",
              "        vertical-align: top;\n",
              "    }\n",
              "\n",
              "    .dataframe thead th {\n",
              "        text-align: right;\n",
              "    }\n",
              "</style>\n",
              "<table border=\"1\" class=\"dataframe\">\n",
              "  <thead>\n",
              "    <tr style=\"text-align: right;\">\n",
              "      <th></th>\n",
              "      <th>id</th>\n",
              "      <th>toxic</th>\n",
              "      <th>severe_toxic</th>\n",
              "      <th>obscene</th>\n",
              "      <th>threat</th>\n",
              "      <th>insult</th>\n",
              "      <th>identity_hate</th>\n",
              "    </tr>\n",
              "  </thead>\n",
              "  <tbody>\n",
              "    <tr>\n",
              "      <th>0</th>\n",
              "      <td>00001cee341fdb12</td>\n",
              "      <td>0.999957</td>\n",
              "      <td>4.360746e-01</td>\n",
              "      <td>0.999691</td>\n",
              "      <td>0.082303</td>\n",
              "      <td>0.858750</td>\n",
              "      <td>0.554349</td>\n",
              "    </tr>\n",
              "    <tr>\n",
              "      <th>1</th>\n",
              "      <td>0000247867823ef7</td>\n",
              "      <td>0.002398</td>\n",
              "      <td>1.561908e-06</td>\n",
              "      <td>0.000228</td>\n",
              "      <td>0.000079</td>\n",
              "      <td>0.003226</td>\n",
              "      <td>0.000124</td>\n",
              "    </tr>\n",
              "    <tr>\n",
              "      <th>2</th>\n",
              "      <td>00013b17ad220c46</td>\n",
              "      <td>0.011102</td>\n",
              "      <td>5.866660e-07</td>\n",
              "      <td>0.000978</td>\n",
              "      <td>0.000013</td>\n",
              "      <td>0.002517</td>\n",
              "      <td>0.000557</td>\n",
              "    </tr>\n",
              "    <tr>\n",
              "      <th>3</th>\n",
              "      <td>00017563c3f7919a</td>\n",
              "      <td>0.001328</td>\n",
              "      <td>2.700775e-05</td>\n",
              "      <td>0.001105</td>\n",
              "      <td>0.000063</td>\n",
              "      <td>0.000421</td>\n",
              "      <td>0.000006</td>\n",
              "    </tr>\n",
              "    <tr>\n",
              "      <th>4</th>\n",
              "      <td>00017695ad8997eb</td>\n",
              "      <td>0.019292</td>\n",
              "      <td>2.053004e-06</td>\n",
              "      <td>0.000321</td>\n",
              "      <td>0.000163</td>\n",
              "      <td>0.000842</td>\n",
              "      <td>0.000099</td>\n",
              "    </tr>\n",
              "  </tbody>\n",
              "</table>\n",
              "</div>"
            ],
            "text/plain": [
              "                 id     toxic  severe_toxic  ...    threat    insult  identity_hate\n",
              "0  00001cee341fdb12  0.999957  4.360746e-01  ...  0.082303  0.858750       0.554349\n",
              "1  0000247867823ef7  0.002398  1.561908e-06  ...  0.000079  0.003226       0.000124\n",
              "2  00013b17ad220c46  0.011102  5.866660e-07  ...  0.000013  0.002517       0.000557\n",
              "3  00017563c3f7919a  0.001328  2.700775e-05  ...  0.000063  0.000421       0.000006\n",
              "4  00017695ad8997eb  0.019292  2.053004e-06  ...  0.000163  0.000842       0.000099\n",
              "\n",
              "[5 rows x 7 columns]"
            ]
          },
          "metadata": {
            "tags": []
          },
          "execution_count": 43
        }
      ]
    },
    {
      "cell_type": "code",
      "metadata": {
        "id": "pC2CZsouA-cP",
        "colab_type": "code",
        "colab": {}
      },
      "source": [
        "# generate submission file\n",
        "submission_chains.to_csv('submission_chains.csv', index=False)"
      ],
      "execution_count": 0,
      "outputs": []
    },
    {
      "cell_type": "markdown",
      "metadata": {
        "id": "L83BXGoUBcfV",
        "colab_type": "text"
      },
      "source": [
        "### Create a combined submission"
      ]
    },
    {
      "cell_type": "code",
      "metadata": {
        "id": "s_rx0gpbBGE_",
        "colab_type": "code",
        "colab": {}
      },
      "source": [
        "# create submission file\n",
        "submission_combined = pd.read_csv('./input/sample_submission.csv')"
      ],
      "execution_count": 0,
      "outputs": []
    },
    {
      "cell_type": "markdown",
      "metadata": {
        "id": "I7UTTmtpBtiJ",
        "colab_type": "text"
      },
      "source": [
        "Combine using simple average from Binary Relevance and Classifier Chains."
      ]
    },
    {
      "cell_type": "code",
      "metadata": {
        "id": "QHENXnc5Bqnc",
        "colab_type": "code",
        "colab": {}
      },
      "source": [
        "# corr_targets = ['obscene', 'insult', 'toxic']\n",
        "for label in cols_target:\n",
        "  submission_combined[label] = 0.5 * (submission_chains[label] + submission_binary[label])"
      ],
      "execution_count": 0,
      "outputs": []
    },
    {
      "cell_type": "code",
      "metadata": {
        "id": "FfFoSuB0CCo0",
        "colab_type": "code",
        "colab": {
          "base_uri": "https://localhost:8080/",
          "height": 204
        },
        "outputId": "48fdc6e3-dd06-4612-f1e7-b1f6974ce1c4"
      },
      "source": [
        "submission_combined.head()"
      ],
      "execution_count": 48,
      "outputs": [
        {
          "output_type": "execute_result",
          "data": {
            "text/html": [
              "<div>\n",
              "<style scoped>\n",
              "    .dataframe tbody tr th:only-of-type {\n",
              "        vertical-align: middle;\n",
              "    }\n",
              "\n",
              "    .dataframe tbody tr th {\n",
              "        vertical-align: top;\n",
              "    }\n",
              "\n",
              "    .dataframe thead th {\n",
              "        text-align: right;\n",
              "    }\n",
              "</style>\n",
              "<table border=\"1\" class=\"dataframe\">\n",
              "  <thead>\n",
              "    <tr style=\"text-align: right;\">\n",
              "      <th></th>\n",
              "      <th>id</th>\n",
              "      <th>toxic</th>\n",
              "      <th>severe_toxic</th>\n",
              "      <th>obscene</th>\n",
              "      <th>threat</th>\n",
              "      <th>insult</th>\n",
              "      <th>identity_hate</th>\n",
              "    </tr>\n",
              "  </thead>\n",
              "  <tbody>\n",
              "    <tr>\n",
              "      <th>0</th>\n",
              "      <td>00001cee341fdb12</td>\n",
              "      <td>0.999957</td>\n",
              "      <td>0.450057</td>\n",
              "      <td>0.999828</td>\n",
              "      <td>0.066344</td>\n",
              "      <td>0.914939</td>\n",
              "      <td>0.493151</td>\n",
              "    </tr>\n",
              "    <tr>\n",
              "      <th>1</th>\n",
              "      <td>0000247867823ef7</td>\n",
              "      <td>0.002398</td>\n",
              "      <td>0.000216</td>\n",
              "      <td>0.000314</td>\n",
              "      <td>0.000202</td>\n",
              "      <td>0.003253</td>\n",
              "      <td>0.000259</td>\n",
              "    </tr>\n",
              "    <tr>\n",
              "      <th>2</th>\n",
              "      <td>00013b17ad220c46</td>\n",
              "      <td>0.011102</td>\n",
              "      <td>0.000059</td>\n",
              "      <td>0.002078</td>\n",
              "      <td>0.000024</td>\n",
              "      <td>0.004897</td>\n",
              "      <td>0.000902</td>\n",
              "    </tr>\n",
              "    <tr>\n",
              "      <th>3</th>\n",
              "      <td>00017563c3f7919a</td>\n",
              "      <td>0.001328</td>\n",
              "      <td>0.001080</td>\n",
              "      <td>0.001035</td>\n",
              "      <td>0.000090</td>\n",
              "      <td>0.000647</td>\n",
              "      <td>0.000020</td>\n",
              "    </tr>\n",
              "    <tr>\n",
              "      <th>4</th>\n",
              "      <td>00017695ad8997eb</td>\n",
              "      <td>0.019292</td>\n",
              "      <td>0.000416</td>\n",
              "      <td>0.000786</td>\n",
              "      <td>0.000382</td>\n",
              "      <td>0.002061</td>\n",
              "      <td>0.000332</td>\n",
              "    </tr>\n",
              "  </tbody>\n",
              "</table>\n",
              "</div>"
            ],
            "text/plain": [
              "                 id     toxic  severe_toxic  ...    threat    insult  identity_hate\n",
              "0  00001cee341fdb12  0.999957      0.450057  ...  0.066344  0.914939       0.493151\n",
              "1  0000247867823ef7  0.002398      0.000216  ...  0.000202  0.003253       0.000259\n",
              "2  00013b17ad220c46  0.011102      0.000059  ...  0.000024  0.004897       0.000902\n",
              "3  00017563c3f7919a  0.001328      0.001080  ...  0.000090  0.000647       0.000020\n",
              "4  00017695ad8997eb  0.019292      0.000416  ...  0.000382  0.002061       0.000332\n",
              "\n",
              "[5 rows x 7 columns]"
            ]
          },
          "metadata": {
            "tags": []
          },
          "execution_count": 48
        }
      ]
    },
    {
      "cell_type": "code",
      "metadata": {
        "id": "Uut3ye8NCLc2",
        "colab_type": "code",
        "colab": {}
      },
      "source": [
        "# generate submission file\n",
        "submission_combined.to_csv('submission_combined.csv', index=False)"
      ],
      "execution_count": 0,
      "outputs": []
    }
  ]
}